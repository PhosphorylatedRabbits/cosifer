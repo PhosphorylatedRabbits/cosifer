{
 "cells": [
  {
   "cell_type": "code",
   "execution_count": 1,
   "metadata": {},
   "outputs": [],
   "source": [
    "from cosifer.pipelines.pipeline_cli import run\n",
    "from cosifer.inferencers import RECOMMENDED_INFERENCERS\n",
    "from cosifer.combiners import RECOMMENDED_COMBINER"
   ]
  },
  {
   "cell_type": "code",
   "execution_count": 2,
   "metadata": {},
   "outputs": [
    {
     "data": {
      "text/plain": [
       "['pearson', 'spearman', 'aracne', 'mrnet', 'clr', 'funchisq']"
      ]
     },
     "execution_count": 2,
     "metadata": {},
     "output_type": "execute_result"
    }
   ],
   "source": [
    "RECOMMENDED_INFERENCERS"
   ]
  },
  {
   "cell_type": "code",
   "execution_count": 3,
   "metadata": {},
   "outputs": [
    {
     "data": {
      "text/plain": [
       "'summa'"
      ]
     },
     "execution_count": 3,
     "metadata": {},
     "output_type": "execute_result"
    }
   ],
   "source": [
    "RECOMMENDED_COMBINER"
   ]
  },
  {
   "cell_type": "code",
   "execution_count": 4,
   "metadata": {},
   "outputs": [
    {
     "name": "stdout",
     "output_type": "stream",
     "text": [
      "\n",
      "    Run COSIFER client pipeline.\n",
      "\n",
      "    Args:\n",
      "        filepath (str): path to the file.\n",
      "        output_directory (str): path where to store the results.\n",
      "        standardize (bool, optional): toggle data standardization.\n",
      "            Defaults to True.\n",
      "        samples_on_rows (bool, optional): flag to indicate whether data are\n",
      "            following the format where each row represents a sample.\n",
      "            Defaults to True.\n",
      "        sep (str, optional): field separator. Defaults to '\t'.\n",
      "        fillna (float, optional): value used to fill NAs. Defaults to 0.\n",
      "        header (int, optional): line for the header in the input file.\n",
      "            Defaults to 0.\n",
      "        index_col (int, optional): column index for the input index.\n",
      "            Defaults to 0.\n",
      "        methods (list, optional): inference methods. Defaults to None, a.k.a.,\n",
      "            only recommended methods.\n",
      "        combiner (str, optional): combiner type. Defaults to None, a.k.a.,\n",
      "            no combination.\n",
      "        gmt_filepath (str, optional): GMT file containing feature sets.\n",
      "            Defaults to None, a.k.a., no GMT file provided.\n",
      "    \n"
     ]
    }
   ],
   "source": [
    "print(run.__doc__)"
   ]
  },
  {
   "cell_type": "code",
   "execution_count": null,
   "metadata": {},
   "outputs": [],
   "source": []
  }
 ],
 "metadata": {
  "kernelspec": {
   "display_name": "Python 3",
   "language": "python",
   "name": "python3"
  },
  "language_info": {
   "codemirror_mode": {
    "name": "ipython",
    "version": 3
   },
   "file_extension": ".py",
   "mimetype": "text/x-python",
   "name": "python",
   "nbconvert_exporter": "python",
   "pygments_lexer": "ipython3",
   "version": "3.7.3"
  }
 },
 "nbformat": 4,
 "nbformat_minor": 4
}
